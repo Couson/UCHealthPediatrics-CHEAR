{
 "cells": [
  {
   "cell_type": "code",
   "execution_count": 1,
   "metadata": {},
   "outputs": [],
   "source": [
    "import os, glob\n",
    "from collections import defaultdict\n",
    "import re"
   ]
  },
  {
   "cell_type": "code",
   "execution_count": 2,
   "metadata": {},
   "outputs": [
    {
     "data": {
      "text/plain": [
       "'/Users/yifeining/Downloads/UCSD_Health/Untitled Folder'"
      ]
     },
     "execution_count": 2,
     "metadata": {},
     "output_type": "execute_result"
    }
   ],
   "source": [
    "file_name = 'Validation1-707393-1.txt'\n",
    "org_path = \"E:\\2.Task Backup by Individual Computers\\FRESH TASK3\\{}\".format(file_name)\n",
    "src_path = '1. CURRENT -TASK BACKUP SERVER 2019_WC\\5.ReFRESH\\RF_GoNoGo'\n",
    "\n",
    "\n",
    "# \"E:\\2.Task Backup by Individual Computers\\FRESH TASK3\\Validation1-707393-1.txt\"\n",
    "\n",
    "os.path.abspath('')"
   ]
  },
  {
   "cell_type": "markdown",
   "metadata": {},
   "source": [
    "# keep records"
   ]
  },
  {
   "cell_type": "code",
   "execution_count": 66,
   "metadata": {},
   "outputs": [],
   "source": [
    "# def keep_records(file_name):\n",
    "\n",
    "def check_if_task_comp(comp):\n",
    "    if comp == 'PACIFIC Psychophys':\n",
    "        return False\n",
    "    return comp.split(' ')[0] in STUDYS\n",
    "    \n",
    "def check_pending_files_in(comp_folder):\n",
    "    # return files that needs to be backed\n",
    "    out = []\n",
    "    for i in glob.glob(os.path.join(comp_folder, '*')):\n",
    "#         print(i)\n",
    "        if '.' in i.split('/')[-1]: # filter out folders\n",
    "            out.append(i)\n",
    "#     print(out)\n",
    "    return out\n",
    "\n",
    "def clean_task_name_lst(task_lst):\n",
    "    filtered_task = [i.lower().replace(' ', '').replace('_', '').replace('-', '')\\\n",
    "                     for i in task_lst if (not i.isnumeric()) \\\n",
    "                    and (i != '')][:-1] # -1 here is to drop the extension\n",
    "    return filtered_task\n",
    "\n",
    "def parse(file_name):\n",
    "    ID_PAT = '[_|\\-|\\.](\\d+)[_|\\-|\\.]'\n",
    "    TASK_PAT = '^([A-Za-z|-|_\\d]+)[A-Za-z|-|_\\d]+'\n",
    "    sub_file_name = file_name.split('/')[-1]\n",
    "    \n",
    "#     print(sub_file_name)\n",
    "    id_ = re.findall(ID_PAT, sub_file_name)\n",
    "    # filter out wrongly copied files; discard them\n",
    "    if not id_:\n",
    "        print('====== please mannually resolve %s ====== ' % file_name)\n",
    "        return 'nullpath'\n",
    "\n",
    "    # first letter determine which studys to go\n",
    "    \n",
    "    try:\n",
    "        study = STUDYS_DICT[id_[0][0]]\n",
    "    except KeyError:\n",
    "        # if a practice test/ Study num not assigned:\n",
    "        return 'nullpath'\n",
    "    \n",
    "#     task = re.findall(sub_file_name, TASK_PAT)\n",
    "    task = re.split(r'-|\\s|_', sub_file_name)\n",
    "    filtered_task = clean_task_name_lst(task)\n",
    "    \n",
    "    vec = set()\n",
    "    for i in filtered_task:\n",
    "        try:\n",
    "            if (study == 'FT') and (i == ('gonogo')):\n",
    "                vec.add('Emotional GoNoGo')\n",
    "            elif (study == 'FT') and (i == ('stroop')):\n",
    "                vec.add('Emotional Stroop ')\n",
    "            else:\n",
    "                vec.add(TASKS_DICT[i])\n",
    "        except:\n",
    "            continue\n",
    "    \n",
    "    task = list(vec)\n",
    "    \n",
    "    \n",
    "    # check if the path are good\n",
    "    tasks_pool = TASKS_DEFAULTDICT[study]\n",
    "    if (len(task) == 1) and (task[0] in tasks_pool):\n",
    "        tar = study + '_' + task[0]\n",
    "        out = TARGET_DIR + '/' + AB2STUDYFOLDERS[study] + '/' + tar\n",
    "        return out\n",
    "    #     return [study, task, id_[0]]"
   ]
  },
  {
   "cell_type": "code",
   "execution_count": 67,
   "metadata": {},
   "outputs": [],
   "source": [
    "PARENT_DIR = '/Volumes/Seagate Backup Plus Drive/2.Task Backup by Individual Computers'\n",
    "TARGET_DIR = '/Volumes/Seagate Backup Plus Drive/1. CURRENT -TASK BACKUP SERVER 2019_WC'\n",
    "\n",
    "# 'CHILD LEARN' alias CHILD; ''\n",
    "STUDYS = ['CHARGE', 'FRESHTEEN', 'PACIFIC', 'NEXT', 'FRESH', 'CHILD']\n",
    "\n",
    "AB2STUDYFOLDERS = {'CH': '6.CHARGE','CL': '4.CHILD LEARN',\n",
    "          'FD': '3.FRESH DOSE', 'FT': '7.FRESH TEEN',\n",
    "          'NEXT' : '9.NEXT', 'PAC': '1.PACIFIC', 'RF' : '5.ReFRESH'}\n",
    "\n",
    "STUDYS_DICT = {'8': 'CH', '6': 'CL', '4': 'FD', \n",
    "             '9' : 'FT', '3' :'NEXT', '3' :'PAC', '7' : 'RF'}\n",
    "\n",
    "#GoNoGo: practice task/ validation\n",
    "TASKS_DICT = {\n",
    "     'attention': 'Attentional Bias', 'attentionbias': 'Attentional Bias', 'bias': 'Attentional Bias',\n",
    "     'eyetracking' : 'AB Eyetracking',\n",
    "     'delaydiscounting': 'Delay Discounting',\n",
    "     'foodstroop' : 'Food Stroop',\n",
    "     'stoptask' : 'Stop Task', 'stop' : 'Stop Task', \n",
    "     'practicetask1' : 'GoNoGo', 'validation1' : 'GoNoGo',\n",
    "     'practicetask' : 'GoNoGo', 'validation' : 'GoNoGo',\n",
    "     'matrixreasoning' : 'Matrix Reasoning', 'matrixreasoningdata': 'Matrix Reasoning','matrix' : 'Matrix Reasoning',\n",
    "     'digitsymbolcodingdata': 'Digit Symbol', 'digitsymbol' : 'Digit Symbol', \n",
    "     'emotionalstroop' : 'Emotional Stroop',\n",
    "     'digitsymbolcoding': 'Digit Symbol','digit': 'Digit Symbol',\n",
    "     'gonogo': 'Emotional GoNoGo'}\n",
    "\n",
    "# used to check if the calculated task is under that study\n",
    "TASKS_DEFAULTDICT = defaultdict(list)\n",
    "TASKS_DEFAULTDICT['PAC'] = ['Food Stroop', 'Stop Task', 'Attentional Bias', \n",
    "                            'Digit Symbol', 'Matrix Reasoning']\n",
    "TASKS_DEFAULTDICT['CL'] = ['Food Stroop', 'GoNoGo', 'Stop Task', 'Attentional Bias', 'Delay Discounting',\n",
    "                          'Digit Symbol', 'Matrix Reasoning']\n",
    "TASKS_DEFAULTDICT['RF'] = ['Food Stroop', 'GoNoGo', 'Stop Task', 'Attentional Bias', 'AB Eyetracking',\n",
    "                           'Delay Discounting', 'Digit Symbol', 'Matrix Reasoning']\n",
    "TASKS_DEFAULTDICT['FD'] = ['Food Stroop', 'GoNoGo', 'Stop Task', 'Attentional Bias', 'AB Eyetracking',\n",
    "                           'Delay Discounting', 'Digit Symbol', 'Matrix Reasoning']\n",
    "TASKS_DEFAULTDICT['CH'] = ['Food Stroop', 'Stop Task', 'AB Eyetracking', 'Delay Discounting',\n",
    "                          'Digit Symbol', 'Matrix Reasoning']\n",
    "\n",
    "TASKS_DEFAULTDICT['FT'] = ['Stop Task', 'Delay Discounting', 'Food Stroop', \n",
    "                           'Emotional Stroop', 'Emotional GoNoGo', 'Matrix Reasoning', 'Digit Symbol']\n",
    "\n",
    "TASKS_DEFAULTDICT['NEXT'] = ['Brain Health Index', 'Delay Discounting', 'Examiner']\n",
    "\n",
    "# TASKS_DEFAULTDICT"
   ]
  },
  {
   "cell_type": "code",
   "execution_count": 69,
   "metadata": {
    "scrolled": false
   },
   "outputs": [
    {
     "name": "stdout",
     "output_type": "stream",
     "text": [
      "/Volumes/Seagate Backup Plus Drive/2.Task Backup by Individual Computers/FRESH TASK6/DelayDiscounting -FRESH_raw_706673_2020-01-14-01-15-33-745.iqdat to\n",
      "/Volumes/Seagate Backup Plus Drive/1. CURRENT -TASK BACKUP SERVER 2019_WC/5.ReFRESH/RF_Delay Discounting\n",
      "\n",
      "\n",
      "/Volumes/Seagate Backup Plus Drive/2.Task Backup by Individual Computers/FRESH TASK6/DelayDiscounting -FRESH_summary_706673_2020-01-14-01-15-33-745.iqdat to\n",
      "/Volumes/Seagate Backup Plus Drive/1. CURRENT -TASK BACKUP SERVER 2019_WC/5.ReFRESH/RF_Delay Discounting\n",
      "\n",
      "\n",
      "====== please mannually resolve /Volumes/Seagate Backup Plus Drive/2.Task Backup by Individual Computers/FRESH TASK6/desktop.ini ====== \n",
      "/Volumes/Seagate Backup Plus Drive/2.Task Backup by Individual Computers/FRESH TASK6/desktop.ini to\n",
      "nullpath\n",
      "\n",
      "\n",
      "/Volumes/Seagate Backup Plus Drive/2.Task Backup by Individual Computers/FRESH TASK6/FoodStroop-706673-1-ExperimentAdvisorReport.xml to\n",
      "/Volumes/Seagate Backup Plus Drive/1. CURRENT -TASK BACKUP SERVER 2019_WC/5.ReFRESH/RF_Food Stroop\n",
      "\n",
      "\n",
      "/Volumes/Seagate Backup Plus Drive/2.Task Backup by Individual Computers/FRESH TASK6/FoodStroop-706673-1.edat2 to\n",
      "/Volumes/Seagate Backup Plus Drive/1. CURRENT -TASK BACKUP SERVER 2019_WC/5.ReFRESH/RF_Food Stroop\n",
      "\n",
      "\n",
      "/Volumes/Seagate Backup Plus Drive/2.Task Backup by Individual Computers/FRESH TASK6/FoodStroop-706673-1.txt to\n",
      "/Volumes/Seagate Backup Plus Drive/1. CURRENT -TASK BACKUP SERVER 2019_WC/5.ReFRESH/RF_Food Stroop\n",
      "\n",
      "\n",
      "====== please mannually resolve /Volumes/Seagate Backup Plus Drive/2.Task Backup by Individual Computers/FRESH TASK8/DigitSymbolCoding (41).csv ====== \n",
      "/Volumes/Seagate Backup Plus Drive/2.Task Backup by Individual Computers/FRESH TASK8/DigitSymbolCoding (41).csv to\n",
      "nullpath\n",
      "\n",
      "\n",
      "====== please mannually resolve /Volumes/Seagate Backup Plus Drive/2.Task Backup by Individual Computers/FRESH TASK8/matrix_reasoning_data (41).csv ====== \n",
      "/Volumes/Seagate Backup Plus Drive/2.Task Backup by Individual Computers/FRESH TASK8/matrix_reasoning_data (41).csv to\n",
      "nullpath\n",
      "\n",
      "\n",
      "====== please mannually resolve /Volumes/Seagate Backup Plus Drive/2.Task Backup by Individual Computers/FRESHTEEN TASK 1/freshteen_digit_T1_practove.csv.csv ====== \n",
      "/Volumes/Seagate Backup Plus Drive/2.Task Backup by Individual Computers/FRESHTEEN TASK 1/freshteen_digit_T1_practove.csv.csv to\n",
      "nullpath\n",
      "\n",
      "\n",
      "====== please mannually resolve /Volumes/Seagate Backup Plus Drive/2.Task Backup by Individual Computers/FRESHTEEN TASK 1/freshteen_matrix_T1_practice.csv.csv ====== \n",
      "/Volumes/Seagate Backup Plus Drive/2.Task Backup by Individual Computers/FRESHTEEN TASK 1/freshteen_matrix_T1_practice.csv.csv to\n",
      "nullpath\n",
      "\n",
      "\n"
     ]
    }
   ],
   "source": [
    "for fp in glob.glob(os.path.join(PARENT_DIR, '*')):\n",
    "    comp = fp.split('/')[-1]\n",
    "#     print(fp)\n",
    "    # if folder/file name is a task computer: loop into path\n",
    "    if check_if_task_comp(comp):\n",
    "#         print(comp)\n",
    "        # if there are files that are not backed loop into each comp_folder\n",
    "        files2backup = check_pending_files_in(fp)\n",
    "        if len(check_pending_files_in(fp)) != 0:\n",
    "#             print('==============================')\n",
    "#             print('need to process', comp)\n",
    "            \n",
    "            for f in files2backup:\n",
    "#                 try:\n",
    "                target = parse(f)\n",
    "\n",
    "                print(f, 'to')\n",
    "                print(target)\n",
    "                print('\\n')\n",
    "                change_path(f, target)\n",
    "#                 out = TARGET_DIR + '/' + target\n",
    "#                 except:\n",
    "#                     target = org\n",
    "#                 print(os.path.exists(tar))\n",
    "#                 if org != tar:\n",
    "                ### keep them in log\n",
    "#                     os.rename(org, tar)\n",
    "            "
   ]
  },
  {
   "cell_type": "code",
   "execution_count": 70,
   "metadata": {},
   "outputs": [],
   "source": [
    "# def dict2task(task_lst, task_dict = TASK_DICT):\n",
    "#     for t in task_lst:\n",
    "#         try:\n",
    "#             return TASK_DICT(t)\n",
    "#         except KeyValueError:\n",
    "#             return None\n",
    "\n",
    "def change_path(origin, target):\n",
    "    # check the original path exists and the target ... too\n",
    "    if os.path.exists(origin) and os.path.exists(target):\n",
    "        print('doable')\n",
    "#         os.rename(origin, target)"
   ]
  },
  {
   "cell_type": "code",
   "execution_count": null,
   "metadata": {},
   "outputs": [],
   "source": []
  },
  {
   "cell_type": "code",
   "execution_count": null,
   "metadata": {},
   "outputs": [],
   "source": []
  },
  {
   "cell_type": "markdown",
   "metadata": {},
   "source": [
    "# change path"
   ]
  },
  {
   "cell_type": "code",
   "execution_count": null,
   "metadata": {},
   "outputs": [],
   "source": []
  },
  {
   "cell_type": "code",
   "execution_count": null,
   "metadata": {},
   "outputs": [],
   "source": []
  },
  {
   "cell_type": "code",
   "execution_count": null,
   "metadata": {},
   "outputs": [],
   "source": []
  }
 ],
 "metadata": {
  "kernelspec": {
   "display_name": "Python 3",
   "language": "python",
   "name": "python3"
  },
  "language_info": {
   "codemirror_mode": {
    "name": "ipython",
    "version": 3
   },
   "file_extension": ".py",
   "mimetype": "text/x-python",
   "name": "python",
   "nbconvert_exporter": "python",
   "pygments_lexer": "ipython3",
   "version": "3.7.0"
  }
 },
 "nbformat": 4,
 "nbformat_minor": 4
}
